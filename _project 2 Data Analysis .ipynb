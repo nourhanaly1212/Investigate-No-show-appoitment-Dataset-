{
 "cells": [
  {
   "cell_type": "markdown",
   "metadata": {},
   "source": [
    "# Project (2) : Investigate No show appoitment Dataset From Kaggle \n",
    "## Table of Contents\n",
    "<ul>\n",
    "<li><a href=\"#intro\">Introduction</a></li>\n",
    "<li><a href=\"#wrangling\">Data Wrangling</a></li>\n",
    "<li><a href=\"#eda\">Exploratory Data Analysis and visualization </a></li>\n",
    "    \n",
    "<li><a href=\"#conclusions\">Conclusions</a></li>\n",
    "</ul>"
   ]
  },
  {
   "cell_type": "markdown",
   "metadata": {},
   "source": [
    "# Import statements for all of the packages that we will use \n"
   ]
  },
  {
   "cell_type": "code",
   "execution_count": 5,
   "metadata": {},
   "outputs": [],
   "source": [
    "import pandas as pd \n",
    "import matplotlib as mt\n",
    "import matplotlib.pyplot as plt\n",
    "import seaborn as sn\n",
    "import numpy as np \n",
    "from scipy import stats\n",
    "import squarify"
   ]
  },
  {
   "cell_type": "markdown",
   "metadata": {},
   "source": [
    "<a id='intro'></a>\n",
    "## Introduction\n",
    "\n",
    ">**Our Dataset talk about  collecting information from 100k medical appointments in Brazil and is focused on the question of whether or not patients show up for their appointment. A number of characteristics about the patient are included in each row**\n",
    "\n"
   ]
  },
  {
   "cell_type": "markdown",
   "metadata": {},
   "source": [
    "### More about our data attributes  : \n",
    "- **ScheduledDay** : tells us on what day the patient set up their appointment (Type : Date)\n",
    "- **Neighborhood** : indicates the location of the hospital with respect to home (String)\n",
    "- **Scholarship**  : indicates whether or not the patient is enrolled in Brasilian welfare program Bolsa Família where (0) for not and (1) for enrolled  (Type : int)\n",
    "- **no-show** : it says'No' if the patient showed up to their appointment, and 'Yes' if they did not show up (Type :String)\n",
    "- **Gender** : indicates gender type where (F) if patient is female and (M) if patient is male (Type : String)\n",
    "- **Hipertension** : indicates if patient suffer from Hipertension where (0) doesnt suffer , (1) suffer (Type : int)\n",
    "- **Diabetes** : indicates if patient suffer from Diabetes where (0) doesnt suffer , (1) suffer (Type : int)\t\n",
    "- **Alcoholism** : indicates if patient alcoholic or nor where (0) not alcoholic , (1) alcoholic (Type : int)\t\n",
    "- **Handcap** :   indicates if patient  is a  handicap person or not  where range  (0:4) (Type: int) \n",
    "- **SMS_received** : check if patient recieve SMS or not  where (0) for not receiving  , (1) for Receiving ie(Type:int)\n",
    "- **Age** : a positive number indicate the age of patient and it cannot be negative (Type : int)\n",
    "\n"
   ]
  },
  {
   "cell_type": "markdown",
   "metadata": {},
   "source": [
    "# Questions Will be asked (Tap to reach the answer )\n",
    "##### Our problem Question what factors are important for us to know in order to predict if a patient will show up for their scheduled appointment?\n",
    ">**Qusetions**:  \n",
    "            <li><a href=\"#Age\">Does Age afecct ? </a></li>\n",
    "            <li><a href=\"#gender\"> Does Gender affect ? </a></li>\n",
    "            <li><a href=\"#wlf \"> Does the enrollment in Brasilian welfare program affect (Scholarship) ? </a></li>\n",
    "            <li><a href=\"#ds1 \"> Does the patient who suffer from diabetes  affect its coming  ? </a></li>\n",
    "            <li><a href=\"#ds2 \"> Does the patient who suffer from Hypertension  affect its coming  ? </a></li>\n",
    "            <li><a href=\"#NH \"> Does the Neighborhood be a factor  ? </a></li>\n",
    "            <li><a href=\"#sms \"> Does the SMS receiving affect   ? </a></li>\n",
    "            <li><a href=\"#alch \"> Does Alcohol play role in this  ? </a></li>\n",
    "            <li><a href=\"#hn \"> Does Handcap affect  ? </a></li>\n",
    "\n",
    "\n",
    "\n",
    "            \n",
    "            \n"
   ]
  },
  {
   "cell_type": "markdown",
   "metadata": {},
   "source": [
    "<a id='wrangling'></a>\n",
    "## Data Wrangling\n",
    ">**steps**: \n",
    "            <li><a href=\"#Loading dataset\">Loading Dataset </a></li>\n",
    "            <li><a href=\"#Display\"> Display Data Content </a></li>\n",
    "            <li><a href=\"#prop \"> General properties of Data </a></li>\n",
    "            <li><a href=\"#clean \"> Clean the Data  </a></li>\n"
   ]
  },
  {
   "cell_type": "markdown",
   "metadata": {},
   "source": [
    "<a id='Loading dataset'></a>\n",
    "### Loading a Dataset "
   ]
  },
  {
   "cell_type": "code",
   "execution_count": 7,
   "metadata": {},
   "outputs": [],
   "source": [
    "data = pd.read_csv('E:\\\\data analysis\\\\professtional\\\\project 2\\\\noshowappointments-kagglev2-may-2016.csv')"
   ]
  },
  {
   "cell_type": "markdown",
   "metadata": {},
   "source": [
    "<a id='Display'></a>\n",
    "\n",
    "### Diplay data content "
   ]
  },
  {
   "cell_type": "code",
   "execution_count": 8,
   "metadata": {},
   "outputs": [
    {
     "data": {
      "text/html": [
       "<div>\n",
       "<style scoped>\n",
       "    .dataframe tbody tr th:only-of-type {\n",
       "        vertical-align: middle;\n",
       "    }\n",
       "\n",
       "    .dataframe tbody tr th {\n",
       "        vertical-align: top;\n",
       "    }\n",
       "\n",
       "    .dataframe thead th {\n",
       "        text-align: right;\n",
       "    }\n",
       "</style>\n",
       "<table border=\"1\" class=\"dataframe\">\n",
       "  <thead>\n",
       "    <tr style=\"text-align: right;\">\n",
       "      <th></th>\n",
       "      <th>PatientId</th>\n",
       "      <th>AppointmentID</th>\n",
       "      <th>Gender</th>\n",
       "      <th>ScheduledDay</th>\n",
       "      <th>AppointmentDay</th>\n",
       "      <th>Age</th>\n",
       "      <th>Neighbourhood</th>\n",
       "      <th>Scholarship</th>\n",
       "      <th>Hipertension</th>\n",
       "      <th>Diabetes</th>\n",
       "      <th>Alcoholism</th>\n",
       "      <th>Handcap</th>\n",
       "      <th>SMS_received</th>\n",
       "      <th>No-show</th>\n",
       "    </tr>\n",
       "  </thead>\n",
       "  <tbody>\n",
       "    <tr>\n",
       "      <th>0</th>\n",
       "      <td>2.987250e+13</td>\n",
       "      <td>5642903</td>\n",
       "      <td>F</td>\n",
       "      <td>2016-04-29T18:38:08Z</td>\n",
       "      <td>2016-04-29T00:00:00Z</td>\n",
       "      <td>62</td>\n",
       "      <td>JARDIM DA PENHA</td>\n",
       "      <td>0</td>\n",
       "      <td>1</td>\n",
       "      <td>0</td>\n",
       "      <td>0</td>\n",
       "      <td>0</td>\n",
       "      <td>0</td>\n",
       "      <td>No</td>\n",
       "    </tr>\n",
       "    <tr>\n",
       "      <th>1</th>\n",
       "      <td>5.589978e+14</td>\n",
       "      <td>5642503</td>\n",
       "      <td>M</td>\n",
       "      <td>2016-04-29T16:08:27Z</td>\n",
       "      <td>2016-04-29T00:00:00Z</td>\n",
       "      <td>56</td>\n",
       "      <td>JARDIM DA PENHA</td>\n",
       "      <td>0</td>\n",
       "      <td>0</td>\n",
       "      <td>0</td>\n",
       "      <td>0</td>\n",
       "      <td>0</td>\n",
       "      <td>0</td>\n",
       "      <td>No</td>\n",
       "    </tr>\n",
       "    <tr>\n",
       "      <th>2</th>\n",
       "      <td>4.262962e+12</td>\n",
       "      <td>5642549</td>\n",
       "      <td>F</td>\n",
       "      <td>2016-04-29T16:19:04Z</td>\n",
       "      <td>2016-04-29T00:00:00Z</td>\n",
       "      <td>62</td>\n",
       "      <td>MATA DA PRAIA</td>\n",
       "      <td>0</td>\n",
       "      <td>0</td>\n",
       "      <td>0</td>\n",
       "      <td>0</td>\n",
       "      <td>0</td>\n",
       "      <td>0</td>\n",
       "      <td>No</td>\n",
       "    </tr>\n",
       "    <tr>\n",
       "      <th>3</th>\n",
       "      <td>8.679512e+11</td>\n",
       "      <td>5642828</td>\n",
       "      <td>F</td>\n",
       "      <td>2016-04-29T17:29:31Z</td>\n",
       "      <td>2016-04-29T00:00:00Z</td>\n",
       "      <td>8</td>\n",
       "      <td>PONTAL DE CAMBURI</td>\n",
       "      <td>0</td>\n",
       "      <td>0</td>\n",
       "      <td>0</td>\n",
       "      <td>0</td>\n",
       "      <td>0</td>\n",
       "      <td>0</td>\n",
       "      <td>No</td>\n",
       "    </tr>\n",
       "    <tr>\n",
       "      <th>4</th>\n",
       "      <td>8.841186e+12</td>\n",
       "      <td>5642494</td>\n",
       "      <td>F</td>\n",
       "      <td>2016-04-29T16:07:23Z</td>\n",
       "      <td>2016-04-29T00:00:00Z</td>\n",
       "      <td>56</td>\n",
       "      <td>JARDIM DA PENHA</td>\n",
       "      <td>0</td>\n",
       "      <td>1</td>\n",
       "      <td>1</td>\n",
       "      <td>0</td>\n",
       "      <td>0</td>\n",
       "      <td>0</td>\n",
       "      <td>No</td>\n",
       "    </tr>\n",
       "    <tr>\n",
       "      <th>5</th>\n",
       "      <td>9.598513e+13</td>\n",
       "      <td>5626772</td>\n",
       "      <td>F</td>\n",
       "      <td>2016-04-27T08:36:51Z</td>\n",
       "      <td>2016-04-29T00:00:00Z</td>\n",
       "      <td>76</td>\n",
       "      <td>REPÚBLICA</td>\n",
       "      <td>0</td>\n",
       "      <td>1</td>\n",
       "      <td>0</td>\n",
       "      <td>0</td>\n",
       "      <td>0</td>\n",
       "      <td>0</td>\n",
       "      <td>No</td>\n",
       "    </tr>\n",
       "    <tr>\n",
       "      <th>6</th>\n",
       "      <td>7.336882e+14</td>\n",
       "      <td>5630279</td>\n",
       "      <td>F</td>\n",
       "      <td>2016-04-27T15:05:12Z</td>\n",
       "      <td>2016-04-29T00:00:00Z</td>\n",
       "      <td>23</td>\n",
       "      <td>GOIABEIRAS</td>\n",
       "      <td>0</td>\n",
       "      <td>0</td>\n",
       "      <td>0</td>\n",
       "      <td>0</td>\n",
       "      <td>0</td>\n",
       "      <td>0</td>\n",
       "      <td>Yes</td>\n",
       "    </tr>\n",
       "    <tr>\n",
       "      <th>7</th>\n",
       "      <td>3.449833e+12</td>\n",
       "      <td>5630575</td>\n",
       "      <td>F</td>\n",
       "      <td>2016-04-27T15:39:58Z</td>\n",
       "      <td>2016-04-29T00:00:00Z</td>\n",
       "      <td>39</td>\n",
       "      <td>GOIABEIRAS</td>\n",
       "      <td>0</td>\n",
       "      <td>0</td>\n",
       "      <td>0</td>\n",
       "      <td>0</td>\n",
       "      <td>0</td>\n",
       "      <td>0</td>\n",
       "      <td>Yes</td>\n",
       "    </tr>\n",
       "    <tr>\n",
       "      <th>8</th>\n",
       "      <td>5.639473e+13</td>\n",
       "      <td>5638447</td>\n",
       "      <td>F</td>\n",
       "      <td>2016-04-29T08:02:16Z</td>\n",
       "      <td>2016-04-29T00:00:00Z</td>\n",
       "      <td>21</td>\n",
       "      <td>ANDORINHAS</td>\n",
       "      <td>0</td>\n",
       "      <td>0</td>\n",
       "      <td>0</td>\n",
       "      <td>0</td>\n",
       "      <td>0</td>\n",
       "      <td>0</td>\n",
       "      <td>No</td>\n",
       "    </tr>\n",
       "    <tr>\n",
       "      <th>9</th>\n",
       "      <td>7.812456e+13</td>\n",
       "      <td>5629123</td>\n",
       "      <td>F</td>\n",
       "      <td>2016-04-27T12:48:25Z</td>\n",
       "      <td>2016-04-29T00:00:00Z</td>\n",
       "      <td>19</td>\n",
       "      <td>CONQUISTA</td>\n",
       "      <td>0</td>\n",
       "      <td>0</td>\n",
       "      <td>0</td>\n",
       "      <td>0</td>\n",
       "      <td>0</td>\n",
       "      <td>0</td>\n",
       "      <td>No</td>\n",
       "    </tr>\n",
       "  </tbody>\n",
       "</table>\n",
       "</div>"
      ],
      "text/plain": [
       "      PatientId  AppointmentID Gender          ScheduledDay  \\\n",
       "0  2.987250e+13        5642903      F  2016-04-29T18:38:08Z   \n",
       "1  5.589978e+14        5642503      M  2016-04-29T16:08:27Z   \n",
       "2  4.262962e+12        5642549      F  2016-04-29T16:19:04Z   \n",
       "3  8.679512e+11        5642828      F  2016-04-29T17:29:31Z   \n",
       "4  8.841186e+12        5642494      F  2016-04-29T16:07:23Z   \n",
       "5  9.598513e+13        5626772      F  2016-04-27T08:36:51Z   \n",
       "6  7.336882e+14        5630279      F  2016-04-27T15:05:12Z   \n",
       "7  3.449833e+12        5630575      F  2016-04-27T15:39:58Z   \n",
       "8  5.639473e+13        5638447      F  2016-04-29T08:02:16Z   \n",
       "9  7.812456e+13        5629123      F  2016-04-27T12:48:25Z   \n",
       "\n",
       "         AppointmentDay  Age      Neighbourhood  Scholarship  Hipertension  \\\n",
       "0  2016-04-29T00:00:00Z   62    JARDIM DA PENHA            0             1   \n",
       "1  2016-04-29T00:00:00Z   56    JARDIM DA PENHA            0             0   \n",
       "2  2016-04-29T00:00:00Z   62      MATA DA PRAIA            0             0   \n",
       "3  2016-04-29T00:00:00Z    8  PONTAL DE CAMBURI            0             0   \n",
       "4  2016-04-29T00:00:00Z   56    JARDIM DA PENHA            0             1   \n",
       "5  2016-04-29T00:00:00Z   76          REPÚBLICA            0             1   \n",
       "6  2016-04-29T00:00:00Z   23         GOIABEIRAS            0             0   \n",
       "7  2016-04-29T00:00:00Z   39         GOIABEIRAS            0             0   \n",
       "8  2016-04-29T00:00:00Z   21         ANDORINHAS            0             0   \n",
       "9  2016-04-29T00:00:00Z   19          CONQUISTA            0             0   \n",
       "\n",
       "   Diabetes  Alcoholism  Handcap  SMS_received No-show  \n",
       "0         0           0        0             0      No  \n",
       "1         0           0        0             0      No  \n",
       "2         0           0        0             0      No  \n",
       "3         0           0        0             0      No  \n",
       "4         1           0        0             0      No  \n",
       "5         0           0        0             0      No  \n",
       "6         0           0        0             0     Yes  \n",
       "7         0           0        0             0     Yes  \n",
       "8         0           0        0             0      No  \n",
       "9         0           0        0             0      No  "
      ]
     },
     "execution_count": 8,
     "metadata": {},
     "output_type": "execute_result"
    }
   ],
   "source": [
    "data.head(10)"
   ]
  },
  {
   "cell_type": "markdown",
   "metadata": {},
   "source": [
    "<a id='prop'></a>\n",
    "\n",
    "### General properties : "
   ]
  },
  {
   "cell_type": "code",
   "execution_count": 9,
   "metadata": {},
   "outputs": [
    {
     "name": "stdout",
     "output_type": "stream",
     "text": [
      "-our data Dimensions  is (110527, 14) where :\n",
      "  110527 is the number of rows (record) \n",
      "  14 is the number of columns \n"
     ]
    }
   ],
   "source": [
    "# showing number of columns and rows :\n",
    "print('-our data Dimensions  is', data.shape , 'where :\\n ',data.shape[0],'is the number of rows (record) \\n ',data.shape[1],'is the number of columns ')"
   ]
  },
  {
   "cell_type": "code",
   "execution_count": 10,
   "metadata": {},
   "outputs": [
    {
     "data": {
      "text/html": [
       "<div>\n",
       "<style scoped>\n",
       "    .dataframe tbody tr th:only-of-type {\n",
       "        vertical-align: middle;\n",
       "    }\n",
       "\n",
       "    .dataframe tbody tr th {\n",
       "        vertical-align: top;\n",
       "    }\n",
       "\n",
       "    .dataframe thead th {\n",
       "        text-align: right;\n",
       "    }\n",
       "</style>\n",
       "<table border=\"1\" class=\"dataframe\">\n",
       "  <thead>\n",
       "    <tr style=\"text-align: right;\">\n",
       "      <th></th>\n",
       "      <th>PatientId</th>\n",
       "      <th>AppointmentID</th>\n",
       "      <th>Age</th>\n",
       "      <th>Scholarship</th>\n",
       "      <th>Hipertension</th>\n",
       "      <th>Diabetes</th>\n",
       "      <th>Alcoholism</th>\n",
       "      <th>Handcap</th>\n",
       "      <th>SMS_received</th>\n",
       "    </tr>\n",
       "  </thead>\n",
       "  <tbody>\n",
       "    <tr>\n",
       "      <th>count</th>\n",
       "      <td>1.105270e+05</td>\n",
       "      <td>1.105270e+05</td>\n",
       "      <td>110527.000000</td>\n",
       "      <td>110527.000000</td>\n",
       "      <td>110527.000000</td>\n",
       "      <td>110527.000000</td>\n",
       "      <td>110527.000000</td>\n",
       "      <td>110527.000000</td>\n",
       "      <td>110527.000000</td>\n",
       "    </tr>\n",
       "    <tr>\n",
       "      <th>mean</th>\n",
       "      <td>1.474963e+14</td>\n",
       "      <td>5.675305e+06</td>\n",
       "      <td>37.088874</td>\n",
       "      <td>0.098266</td>\n",
       "      <td>0.197246</td>\n",
       "      <td>0.071865</td>\n",
       "      <td>0.030400</td>\n",
       "      <td>0.022248</td>\n",
       "      <td>0.321026</td>\n",
       "    </tr>\n",
       "    <tr>\n",
       "      <th>std</th>\n",
       "      <td>2.560949e+14</td>\n",
       "      <td>7.129575e+04</td>\n",
       "      <td>23.110205</td>\n",
       "      <td>0.297675</td>\n",
       "      <td>0.397921</td>\n",
       "      <td>0.258265</td>\n",
       "      <td>0.171686</td>\n",
       "      <td>0.161543</td>\n",
       "      <td>0.466873</td>\n",
       "    </tr>\n",
       "    <tr>\n",
       "      <th>min</th>\n",
       "      <td>3.921784e+04</td>\n",
       "      <td>5.030230e+06</td>\n",
       "      <td>-1.000000</td>\n",
       "      <td>0.000000</td>\n",
       "      <td>0.000000</td>\n",
       "      <td>0.000000</td>\n",
       "      <td>0.000000</td>\n",
       "      <td>0.000000</td>\n",
       "      <td>0.000000</td>\n",
       "    </tr>\n",
       "    <tr>\n",
       "      <th>25%</th>\n",
       "      <td>4.172614e+12</td>\n",
       "      <td>5.640286e+06</td>\n",
       "      <td>18.000000</td>\n",
       "      <td>0.000000</td>\n",
       "      <td>0.000000</td>\n",
       "      <td>0.000000</td>\n",
       "      <td>0.000000</td>\n",
       "      <td>0.000000</td>\n",
       "      <td>0.000000</td>\n",
       "    </tr>\n",
       "    <tr>\n",
       "      <th>50%</th>\n",
       "      <td>3.173184e+13</td>\n",
       "      <td>5.680573e+06</td>\n",
       "      <td>37.000000</td>\n",
       "      <td>0.000000</td>\n",
       "      <td>0.000000</td>\n",
       "      <td>0.000000</td>\n",
       "      <td>0.000000</td>\n",
       "      <td>0.000000</td>\n",
       "      <td>0.000000</td>\n",
       "    </tr>\n",
       "    <tr>\n",
       "      <th>75%</th>\n",
       "      <td>9.439172e+13</td>\n",
       "      <td>5.725524e+06</td>\n",
       "      <td>55.000000</td>\n",
       "      <td>0.000000</td>\n",
       "      <td>0.000000</td>\n",
       "      <td>0.000000</td>\n",
       "      <td>0.000000</td>\n",
       "      <td>0.000000</td>\n",
       "      <td>1.000000</td>\n",
       "    </tr>\n",
       "    <tr>\n",
       "      <th>max</th>\n",
       "      <td>9.999816e+14</td>\n",
       "      <td>5.790484e+06</td>\n",
       "      <td>115.000000</td>\n",
       "      <td>1.000000</td>\n",
       "      <td>1.000000</td>\n",
       "      <td>1.000000</td>\n",
       "      <td>1.000000</td>\n",
       "      <td>4.000000</td>\n",
       "      <td>1.000000</td>\n",
       "    </tr>\n",
       "  </tbody>\n",
       "</table>\n",
       "</div>"
      ],
      "text/plain": [
       "          PatientId  AppointmentID            Age    Scholarship  \\\n",
       "count  1.105270e+05   1.105270e+05  110527.000000  110527.000000   \n",
       "mean   1.474963e+14   5.675305e+06      37.088874       0.098266   \n",
       "std    2.560949e+14   7.129575e+04      23.110205       0.297675   \n",
       "min    3.921784e+04   5.030230e+06      -1.000000       0.000000   \n",
       "25%    4.172614e+12   5.640286e+06      18.000000       0.000000   \n",
       "50%    3.173184e+13   5.680573e+06      37.000000       0.000000   \n",
       "75%    9.439172e+13   5.725524e+06      55.000000       0.000000   \n",
       "max    9.999816e+14   5.790484e+06     115.000000       1.000000   \n",
       "\n",
       "        Hipertension       Diabetes     Alcoholism        Handcap  \\\n",
       "count  110527.000000  110527.000000  110527.000000  110527.000000   \n",
       "mean        0.197246       0.071865       0.030400       0.022248   \n",
       "std         0.397921       0.258265       0.171686       0.161543   \n",
       "min         0.000000       0.000000       0.000000       0.000000   \n",
       "25%         0.000000       0.000000       0.000000       0.000000   \n",
       "50%         0.000000       0.000000       0.000000       0.000000   \n",
       "75%         0.000000       0.000000       0.000000       0.000000   \n",
       "max         1.000000       1.000000       1.000000       4.000000   \n",
       "\n",
       "        SMS_received  \n",
       "count  110527.000000  \n",
       "mean        0.321026  \n",
       "std         0.466873  \n",
       "min         0.000000  \n",
       "25%         0.000000  \n",
       "50%         0.000000  \n",
       "75%         1.000000  \n",
       "max         1.000000  "
      ]
     },
     "execution_count": 10,
     "metadata": {},
     "output_type": "execute_result"
    }
   ],
   "source": [
    "#show some staistical information :\n",
    "data.describe()"
   ]
  },
  {
   "cell_type": "markdown",
   "metadata": {},
   "source": [
    "we have a problem that minmum age is -1 and maximum age is 115 this is illogical age "
   ]
  },
  {
   "cell_type": "markdown",
   "metadata": {},
   "source": [
    "<a id='clean'></a>\n",
    "\n",
    "# Clean the data "
   ]
  },
  {
   "cell_type": "markdown",
   "metadata": {},
   "source": [
    "### check and fixing issues in Data   \n",
    ">  we will check for missing data , Duplicates , incorrect data types "
   ]
  },
  {
   "cell_type": "code",
   "execution_count": 11,
   "metadata": {},
   "outputs": [
    {
     "name": "stdout",
     "output_type": "stream",
     "text": [
      "<class 'pandas.core.frame.DataFrame'>\n",
      "RangeIndex: 110527 entries, 0 to 110526\n",
      "Data columns (total 14 columns):\n",
      " #   Column          Non-Null Count   Dtype  \n",
      "---  ------          --------------   -----  \n",
      " 0   PatientId       110527 non-null  float64\n",
      " 1   AppointmentID   110527 non-null  int64  \n",
      " 2   Gender          110527 non-null  object \n",
      " 3   ScheduledDay    110527 non-null  object \n",
      " 4   AppointmentDay  110527 non-null  object \n",
      " 5   Age             110527 non-null  int64  \n",
      " 6   Neighbourhood   110527 non-null  object \n",
      " 7   Scholarship     110527 non-null  int64  \n",
      " 8   Hipertension    110527 non-null  int64  \n",
      " 9   Diabetes        110527 non-null  int64  \n",
      " 10  Alcoholism      110527 non-null  int64  \n",
      " 11  Handcap         110527 non-null  int64  \n",
      " 12  SMS_received    110527 non-null  int64  \n",
      " 13  No-show         110527 non-null  object \n",
      "dtypes: float64(1), int64(8), object(5)\n",
      "memory usage: 11.8+ MB\n"
     ]
    }
   ],
   "source": [
    "#info() is the method which will display if there is issues or not \n",
    "data.info()"
   ]
  },
  {
   "cell_type": "markdown",
   "metadata": {},
   "source": [
    "### check missing data "
   ]
  },
  {
   "cell_type": "markdown",
   "metadata": {},
   "source": [
    "> **Conclusion**:  since Non-Null Count values are similar for all columns this is our reference indicate that no missing values "
   ]
  },
  {
   "cell_type": "markdown",
   "metadata": {},
   "source": [
    "### check Duplicates "
   ]
  },
  {
   "cell_type": "code",
   "execution_count": 12,
   "metadata": {},
   "outputs": [
    {
     "name": "stdout",
     "output_type": "stream",
     "text": [
      "            0\n",
      "0       False\n",
      "1       False\n",
      "2       False\n",
      "3       False\n",
      "4       False\n",
      "...       ...\n",
      "110522  False\n",
      "110523  False\n",
      "110524  False\n",
      "110525  False\n",
      "110526  False\n",
      "\n",
      "[110527 rows x 1 columns]\n",
      "sum of duplication is  0\n"
     ]
    }
   ],
   "source": [
    "# duplicated () return true if there is a reptition and false for no repition \n",
    "#sum of duplicated will display us count of how much duplication \n",
    "print(pd.DataFrame(data.duplicated ()))\n",
    "print('sum of duplication is ',sum(data.duplicated ()))"
   ]
  },
  {
   "cell_type": "markdown",
   "metadata": {},
   "source": [
    "> **Conclusion**: \n",
    "since sum of duplication is  0 so it indicates that there is no  duplication \n"
   ]
  },
  {
   "cell_type": "markdown",
   "metadata": {},
   "source": [
    "### Rename some columns to be more easier "
   ]
  },
  {
   "cell_type": "code",
   "execution_count": 13,
   "metadata": {},
   "outputs": [],
   "source": [
    "data.rename(columns={'No-show':'noshow'},inplace=True)"
   ]
  },
  {
   "cell_type": "code",
   "execution_count": 14,
   "metadata": {},
   "outputs": [],
   "source": [
    "fltdata=data.drop([\"ScheduledDay\",\"AppointmentDay\"],axis=1)"
   ]
  },
  {
   "cell_type": "code",
   "execution_count": 15,
   "metadata": {},
   "outputs": [
    {
     "name": "stdout",
     "output_type": "stream",
     "text": [
      "number of patients-Ids duplicated  for same no-show results are    38710\n"
     ]
    }
   ],
   "source": [
    "#check if there is patient with the same no-show Results :\n",
    "y=sum(data.duplicated(['PatientId','noshow']))\n",
    "print('number of patients-Ids duplicated  for same no-show results are   ',y)"
   ]
  },
  {
   "cell_type": "code",
   "execution_count": 16,
   "metadata": {},
   "outputs": [
    {
     "name": "stdout",
     "output_type": "stream",
     "text": [
      "number of patients-Ids duplicated  for same no-show results now are    0\n"
     ]
    }
   ],
   "source": [
    "# remove duplications occur between pateint id and no show result (same status) :\n",
    "# as because  patient may have several appoitment and it may attent some and absent from others \n",
    "data.drop_duplicates(['PatientId','noshow'],inplace=True)\n",
    "check=sum(data.duplicated(['PatientId','noshow']))\n",
    "print('number of patients-Ids duplicated  for same no-show results now are   ',check )"
   ]
  },
  {
   "cell_type": "markdown",
   "metadata": {},
   "source": [
    "### Fix incorrect data types : "
   ]
  },
  {
   "cell_type": "code",
   "execution_count": 17,
   "metadata": {},
   "outputs": [
    {
     "name": "stdout",
     "output_type": "stream",
     "text": [
      "<class 'pandas.core.frame.DataFrame'>\n",
      "Int64Index: 71817 entries, 0 to 110524\n",
      "Data columns (total 14 columns):\n",
      " #   Column          Non-Null Count  Dtype              \n",
      "---  ------          --------------  -----              \n",
      " 0   PatientId       71817 non-null  float64            \n",
      " 1   AppointmentID   71817 non-null  int64              \n",
      " 2   Gender          71817 non-null  object             \n",
      " 3   ScheduledDay    71817 non-null  datetime64[ns, UTC]\n",
      " 4   AppointmentDay  71817 non-null  datetime64[ns, UTC]\n",
      " 5   Age             71817 non-null  int64              \n",
      " 6   Neighbourhood   71817 non-null  object             \n",
      " 7   Scholarship     71817 non-null  int64              \n",
      " 8   Hipertension    71817 non-null  int64              \n",
      " 9   Diabetes        71817 non-null  int64              \n",
      " 10  Alcoholism      71817 non-null  int64              \n",
      " 11  Handcap         71817 non-null  int64              \n",
      " 12  SMS_received    71817 non-null  int64              \n",
      " 13  noshow          71817 non-null  object             \n",
      "dtypes: datetime64[ns, UTC](2), float64(1), int64(8), object(3)\n",
      "memory usage: 8.2+ MB\n"
     ]
    }
   ],
   "source": [
    "# ScheduledDay    :   110527 non-null  object \n",
    "# AppointmentDay  :   110527 non-null  object \n",
    "# both must be changed from object to datetime : \n",
    " \n",
    "data['ScheduledDay']=pd.to_datetime(data['ScheduledDay'])\n",
    "data['AppointmentDay']=pd.to_datetime(data['AppointmentDay'])\n",
    "\n",
    "#check if types are changed in place :\n",
    "data.info()"
   ]
  },
  {
   "cell_type": "markdown",
   "metadata": {},
   "source": [
    "# Discuss some points about patients and thier appoitments :"
   ]
  },
  {
   "cell_type": "code",
   "execution_count": 18,
   "metadata": {},
   "outputs": [
    {
     "name": "stdout",
     "output_type": "stream",
     "text": [
      "number of patients are   62299\n"
     ]
    }
   ],
   "source": [
    "# check number of patients (unique) :\n",
    "x=data['PatientId'].nunique()\n",
    "print('number of patients are  ', x )"
   ]
  },
  {
   "cell_type": "markdown",
   "metadata": {},
   "source": [
    "we will note that there is only 62299 unique patients from the total records "
   ]
  },
  {
   "cell_type": "code",
   "execution_count": 19,
   "metadata": {},
   "outputs": [
    {
     "name": "stdout",
     "output_type": "stream",
     "text": [
      "number of patients-Ids duplicated  for different appoitment  are    9518\n"
     ]
    }
   ],
   "source": [
    "#check if the appoitment usually for the same patients or different ones  \n",
    "x=sum(data['PatientId'].duplicated())\n",
    "print('number of patients-Ids duplicated  for different appoitment  are   ', x )"
   ]
  },
  {
   "cell_type": "markdown",
   "metadata": {},
   "source": [
    "<a id='eda'></a>\n",
    "## Exploratory Data Analysis\n",
    ">  In this section of the report we will maximize potential of our analysis and visualization "
   ]
  },
  {
   "cell_type": "markdown",
   "metadata": {},
   "source": [
    "## Removing outliers :"
   ]
  },
  {
   "cell_type": "markdown",
   "metadata": {},
   "source": [
    ">we notice that some values of age have negative value from decrptive analysis we make above ana this is illogical so , we remove them as they are out of range which we called ouliers "
   ]
  },
  {
   "cell_type": "code",
   "execution_count": 20,
   "metadata": {},
   "outputs": [],
   "source": [
    "# get number of negative values filled in age attributes :\n",
    "# get number of values more than 100 which is illogical \n",
    "# drop both of them from original dataset \n",
    "morethan=data[ data[\"Age\"] > 100 ]\n",
    "len(morethan)\n",
    "for row in morethan.iterrows():\n",
    "    data.drop(row[0],inplace=True)\n",
    "lessthan=data[ data[\"Age\"] <0]\n",
    "for row in lessthan.iterrows():\n",
    "    data.drop(row[0],inplace=True)"
   ]
  },
  {
   "cell_type": "code",
   "execution_count": 21,
   "metadata": {},
   "outputs": [
    {
     "data": {
      "text/html": [
       "<div>\n",
       "<style scoped>\n",
       "    .dataframe tbody tr th:only-of-type {\n",
       "        vertical-align: middle;\n",
       "    }\n",
       "\n",
       "    .dataframe tbody tr th {\n",
       "        vertical-align: top;\n",
       "    }\n",
       "\n",
       "    .dataframe thead th {\n",
       "        text-align: right;\n",
       "    }\n",
       "</style>\n",
       "<table border=\"1\" class=\"dataframe\">\n",
       "  <thead>\n",
       "    <tr style=\"text-align: right;\">\n",
       "      <th></th>\n",
       "      <th>PatientId</th>\n",
       "      <th>AppointmentID</th>\n",
       "      <th>Age</th>\n",
       "      <th>Scholarship</th>\n",
       "      <th>Hipertension</th>\n",
       "      <th>Diabetes</th>\n",
       "      <th>Alcoholism</th>\n",
       "      <th>Handcap</th>\n",
       "      <th>SMS_received</th>\n",
       "    </tr>\n",
       "  </thead>\n",
       "  <tbody>\n",
       "    <tr>\n",
       "      <th>count</th>\n",
       "      <td>7.181100e+04</td>\n",
       "      <td>7.181100e+04</td>\n",
       "      <td>71811.000000</td>\n",
       "      <td>71811.000000</td>\n",
       "      <td>71811.000000</td>\n",
       "      <td>71811.000000</td>\n",
       "      <td>71811.000000</td>\n",
       "      <td>71811.000000</td>\n",
       "      <td>71811.000000</td>\n",
       "    </tr>\n",
       "    <tr>\n",
       "      <th>mean</th>\n",
       "      <td>1.466102e+14</td>\n",
       "      <td>5.666490e+06</td>\n",
       "      <td>36.522399</td>\n",
       "      <td>0.095542</td>\n",
       "      <td>0.195068</td>\n",
       "      <td>0.070964</td>\n",
       "      <td>0.025038</td>\n",
       "      <td>0.020108</td>\n",
       "      <td>0.335575</td>\n",
       "    </tr>\n",
       "    <tr>\n",
       "      <th>std</th>\n",
       "      <td>2.544705e+14</td>\n",
       "      <td>7.313174e+04</td>\n",
       "      <td>23.371018</td>\n",
       "      <td>0.293965</td>\n",
       "      <td>0.396256</td>\n",
       "      <td>0.256767</td>\n",
       "      <td>0.156241</td>\n",
       "      <td>0.155257</td>\n",
       "      <td>0.472194</td>\n",
       "    </tr>\n",
       "    <tr>\n",
       "      <th>min</th>\n",
       "      <td>3.921784e+04</td>\n",
       "      <td>5.030230e+06</td>\n",
       "      <td>0.000000</td>\n",
       "      <td>0.000000</td>\n",
       "      <td>0.000000</td>\n",
       "      <td>0.000000</td>\n",
       "      <td>0.000000</td>\n",
       "      <td>0.000000</td>\n",
       "      <td>0.000000</td>\n",
       "    </tr>\n",
       "    <tr>\n",
       "      <th>25%</th>\n",
       "      <td>4.175933e+12</td>\n",
       "      <td>5.631620e+06</td>\n",
       "      <td>17.000000</td>\n",
       "      <td>0.000000</td>\n",
       "      <td>0.000000</td>\n",
       "      <td>0.000000</td>\n",
       "      <td>0.000000</td>\n",
       "      <td>0.000000</td>\n",
       "      <td>0.000000</td>\n",
       "    </tr>\n",
       "    <tr>\n",
       "      <th>50%</th>\n",
       "      <td>3.188758e+13</td>\n",
       "      <td>5.672880e+06</td>\n",
       "      <td>36.000000</td>\n",
       "      <td>0.000000</td>\n",
       "      <td>0.000000</td>\n",
       "      <td>0.000000</td>\n",
       "      <td>0.000000</td>\n",
       "      <td>0.000000</td>\n",
       "      <td>0.000000</td>\n",
       "    </tr>\n",
       "    <tr>\n",
       "      <th>75%</th>\n",
       "      <td>9.457487e+13</td>\n",
       "      <td>5.716564e+06</td>\n",
       "      <td>55.000000</td>\n",
       "      <td>0.000000</td>\n",
       "      <td>0.000000</td>\n",
       "      <td>0.000000</td>\n",
       "      <td>0.000000</td>\n",
       "      <td>0.000000</td>\n",
       "      <td>1.000000</td>\n",
       "    </tr>\n",
       "    <tr>\n",
       "      <th>max</th>\n",
       "      <td>9.999816e+14</td>\n",
       "      <td>5.790484e+06</td>\n",
       "      <td>100.000000</td>\n",
       "      <td>1.000000</td>\n",
       "      <td>1.000000</td>\n",
       "      <td>1.000000</td>\n",
       "      <td>1.000000</td>\n",
       "      <td>4.000000</td>\n",
       "      <td>1.000000</td>\n",
       "    </tr>\n",
       "  </tbody>\n",
       "</table>\n",
       "</div>"
      ],
      "text/plain": [
       "          PatientId  AppointmentID           Age   Scholarship  Hipertension  \\\n",
       "count  7.181100e+04   7.181100e+04  71811.000000  71811.000000  71811.000000   \n",
       "mean   1.466102e+14   5.666490e+06     36.522399      0.095542      0.195068   \n",
       "std    2.544705e+14   7.313174e+04     23.371018      0.293965      0.396256   \n",
       "min    3.921784e+04   5.030230e+06      0.000000      0.000000      0.000000   \n",
       "25%    4.175933e+12   5.631620e+06     17.000000      0.000000      0.000000   \n",
       "50%    3.188758e+13   5.672880e+06     36.000000      0.000000      0.000000   \n",
       "75%    9.457487e+13   5.716564e+06     55.000000      0.000000      0.000000   \n",
       "max    9.999816e+14   5.790484e+06    100.000000      1.000000      1.000000   \n",
       "\n",
       "           Diabetes    Alcoholism       Handcap  SMS_received  \n",
       "count  71811.000000  71811.000000  71811.000000  71811.000000  \n",
       "mean       0.070964      0.025038      0.020108      0.335575  \n",
       "std        0.256767      0.156241      0.155257      0.472194  \n",
       "min        0.000000      0.000000      0.000000      0.000000  \n",
       "25%        0.000000      0.000000      0.000000      0.000000  \n",
       "50%        0.000000      0.000000      0.000000      0.000000  \n",
       "75%        0.000000      0.000000      0.000000      1.000000  \n",
       "max        1.000000      1.000000      4.000000      1.000000  "
      ]
     },
     "execution_count": 21,
     "metadata": {},
     "output_type": "execute_result"
    }
   ],
   "source": [
    "#check if we have cleaned outliers \n",
    "data.describe()"
   ]
  },
  {
   "cell_type": "markdown",
   "metadata": {},
   "source": [
    "minimum age become zero insttead of -1 , maximum age  become  100 instead of 115 "
   ]
  },
  {
   "cell_type": "markdown",
   "metadata": {},
   "source": [
    "## Data visualization "
   ]
  },
  {
   "cell_type": "markdown",
   "metadata": {},
   "source": [
    "# (Histograms for each column to show thier distributions  )"
   ]
  },
  {
   "cell_type": "code",
   "execution_count": 22,
   "metadata": {},
   "outputs": [
    {
     "data": {
      "image/png": "[encoded data removed]",
      "text/plain": [
       "<Figure size 864x864 with 9 Axes>"
      ]
     },
     "metadata": {
      "needs_background": "light"
     },
     "output_type": "display_data"
    }
   ],
   "source": [
    "data[['Age' , 'Diabetes' , 'Hipertension','Scholarship' ,'Alcoholism','Handcap','SMS_received','noshow']].hist(figsize=(12,12));"
   ]
  },
  {
   "cell_type": "markdown",
   "metadata": {},
   "source": [
    "\n",
    "- Most patients dont suffer from niethier diabetes nor Handcape \n",
    "- About 18% Have no hipertension \n",
    "- Patients who dont recieved SMS-messages is about half those who recieve \n",
    "- (Most) patient ar not taking alcohol only about 5% taking \n",
    "- About 9%  exsist in scholarship system (welfare program)"
   ]
  },
  {
   "cell_type": "markdown",
   "metadata": {},
   "source": [
    "### Filter data by 'noshow' attribute : "
   ]
  },
  {
   "cell_type": "code",
   "execution_count": 23,
   "metadata": {
    "scrolled": false
   },
   "outputs": [
    {
     "data": {
      "text/html": [
       "<div>\n",
       "<style scoped>\n",
       "    .dataframe tbody tr th:only-of-type {\n",
       "        vertical-align: middle;\n",
       "    }\n",
       "\n",
       "    .dataframe tbody tr th {\n",
       "        vertical-align: top;\n",
       "    }\n",
       "\n",
       "    .dataframe thead th {\n",
       "        text-align: right;\n",
       "    }\n",
       "</style>\n",
       "<table border=\"1\" class=\"dataframe\">\n",
       "  <thead>\n",
       "    <tr style=\"text-align: right;\">\n",
       "      <th></th>\n",
       "      <th>PatientId</th>\n",
       "      <th>AppointmentID</th>\n",
       "      <th>Gender</th>\n",
       "      <th>ScheduledDay</th>\n",
       "      <th>AppointmentDay</th>\n",
       "      <th>Age</th>\n",
       "      <th>Neighbourhood</th>\n",
       "      <th>Scholarship</th>\n",
       "      <th>Hipertension</th>\n",
       "      <th>Diabetes</th>\n",
       "      <th>Alcoholism</th>\n",
       "      <th>Handcap</th>\n",
       "      <th>SMS_received</th>\n",
       "      <th>noshow</th>\n",
       "    </tr>\n",
       "  </thead>\n",
       "  <tbody>\n",
       "    <tr>\n",
       "      <th>0</th>\n",
       "      <td>2.987250e+13</td>\n",
       "      <td>5642903</td>\n",
       "      <td>F</td>\n",
       "      <td>2016-04-29 18:38:08+00:00</td>\n",
       "      <td>2016-04-29 00:00:00+00:00</td>\n",
       "      <td>62</td>\n",
       "      <td>JARDIM DA PENHA</td>\n",
       "      <td>0</td>\n",
       "      <td>1</td>\n",
       "      <td>0</td>\n",
       "      <td>0</td>\n",
       "      <td>0</td>\n",
       "      <td>0</td>\n",
       "      <td>No</td>\n",
       "    </tr>\n",
       "    <tr>\n",
       "      <th>1</th>\n",
       "      <td>5.589978e+14</td>\n",
       "      <td>5642503</td>\n",
       "      <td>M</td>\n",
       "      <td>2016-04-29 16:08:27+00:00</td>\n",
       "      <td>2016-04-29 00:00:00+00:00</td>\n",
       "      <td>56</td>\n",
       "      <td>JARDIM DA PENHA</td>\n",
       "      <td>0</td>\n",
       "      <td>0</td>\n",
       "      <td>0</td>\n",
       "      <td>0</td>\n",
       "      <td>0</td>\n",
       "      <td>0</td>\n",
       "      <td>No</td>\n",
       "    </tr>\n",
       "    <tr>\n",
       "      <th>2</th>\n",
       "      <td>4.262962e+12</td>\n",
       "      <td>5642549</td>\n",
       "      <td>F</td>\n",
       "      <td>2016-04-29 16:19:04+00:00</td>\n",
       "      <td>2016-04-29 00:00:00+00:00</td>\n",
       "      <td>62</td>\n",
       "      <td>MATA DA PRAIA</td>\n",
       "      <td>0</td>\n",
       "      <td>0</td>\n",
       "      <td>0</td>\n",
       "      <td>0</td>\n",
       "      <td>0</td>\n",
       "      <td>0</td>\n",
       "      <td>No</td>\n",
       "    </tr>\n",
       "    <tr>\n",
       "      <th>3</th>\n",
       "      <td>8.679512e+11</td>\n",
       "      <td>5642828</td>\n",
       "      <td>F</td>\n",
       "      <td>2016-04-29 17:29:31+00:00</td>\n",
       "      <td>2016-04-29 00:00:00+00:00</td>\n",
       "      <td>8</td>\n",
       "      <td>PONTAL DE CAMBURI</td>\n",
       "      <td>0</td>\n",
       "      <td>0</td>\n",
       "      <td>0</td>\n",
       "      <td>0</td>\n",
       "      <td>0</td>\n",
       "      <td>0</td>\n",
       "      <td>No</td>\n",
       "    </tr>\n",
       "  </tbody>\n",
       "</table>\n",
       "</div>"
      ],
      "text/plain": [
       "      PatientId  AppointmentID Gender              ScheduledDay  \\\n",
       "0  2.987250e+13        5642903      F 2016-04-29 18:38:08+00:00   \n",
       "1  5.589978e+14        5642503      M 2016-04-29 16:08:27+00:00   \n",
       "2  4.262962e+12        5642549      F 2016-04-29 16:19:04+00:00   \n",
       "3  8.679512e+11        5642828      F 2016-04-29 17:29:31+00:00   \n",
       "\n",
       "             AppointmentDay  Age      Neighbourhood  Scholarship  \\\n",
       "0 2016-04-29 00:00:00+00:00   62    JARDIM DA PENHA            0   \n",
       "1 2016-04-29 00:00:00+00:00   56    JARDIM DA PENHA            0   \n",
       "2 2016-04-29 00:00:00+00:00   62      MATA DA PRAIA            0   \n",
       "3 2016-04-29 00:00:00+00:00    8  PONTAL DE CAMBURI            0   \n",
       "\n",
       "   Hipertension  Diabetes  Alcoholism  Handcap  SMS_received noshow  \n",
       "0             1         0           0        0             0     No  \n",
       "1             0         0           0        0             0     No  \n",
       "2             0         0           0        0             0     No  \n",
       "3             0         0           0        0             0     No  "
      ]
     },
     "execution_count": 23,
     "metadata": {},
     "output_type": "execute_result"
    }
   ],
   "source": [
    "n =data[data['noshow']=='No'] # data frame containing reccords depending on no show be no refer that this patient comes on its appoitment \n",
    "show=n['noshow']              # sub-set of the column containig noshow==no \n",
    "n.head(4)"
   ]
  },
  {
   "cell_type": "code",
   "execution_count": 24,
   "metadata": {},
   "outputs": [
    {
     "data": {
      "text/html": [
       "<div>\n",
       "<style scoped>\n",
       "    .dataframe tbody tr th:only-of-type {\n",
       "        vertical-align: middle;\n",
       "    }\n",
       "\n",
       "    .dataframe tbody tr th {\n",
       "        vertical-align: top;\n",
       "    }\n",
       "\n",
       "    .dataframe thead th {\n",
       "        text-align: right;\n",
       "    }\n",
       "</style>\n",
       "<table border=\"1\" class=\"dataframe\">\n",
       "  <thead>\n",
       "    <tr style=\"text-align: right;\">\n",
       "      <th></th>\n",
       "      <th>PatientId</th>\n",
       "      <th>AppointmentID</th>\n",
       "      <th>Gender</th>\n",
       "      <th>ScheduledDay</th>\n",
       "      <th>AppointmentDay</th>\n",
       "      <th>Age</th>\n",
       "      <th>Neighbourhood</th>\n",
       "      <th>Scholarship</th>\n",
       "      <th>Hipertension</th>\n",
       "      <th>Diabetes</th>\n",
       "      <th>Alcoholism</th>\n",
       "      <th>Handcap</th>\n",
       "      <th>SMS_received</th>\n",
       "      <th>noshow</th>\n",
       "    </tr>\n",
       "  </thead>\n",
       "  <tbody>\n",
       "    <tr>\n",
       "      <th>6</th>\n",
       "      <td>7.336882e+14</td>\n",
       "      <td>5630279</td>\n",
       "      <td>F</td>\n",
       "      <td>2016-04-27 15:05:12+00:00</td>\n",
       "      <td>2016-04-29 00:00:00+00:00</td>\n",
       "      <td>23</td>\n",
       "      <td>GOIABEIRAS</td>\n",
       "      <td>0</td>\n",
       "      <td>0</td>\n",
       "      <td>0</td>\n",
       "      <td>0</td>\n",
       "      <td>0</td>\n",
       "      <td>0</td>\n",
       "      <td>Yes</td>\n",
       "    </tr>\n",
       "    <tr>\n",
       "      <th>7</th>\n",
       "      <td>3.449833e+12</td>\n",
       "      <td>5630575</td>\n",
       "      <td>F</td>\n",
       "      <td>2016-04-27 15:39:58+00:00</td>\n",
       "      <td>2016-04-29 00:00:00+00:00</td>\n",
       "      <td>39</td>\n",
       "      <td>GOIABEIRAS</td>\n",
       "      <td>0</td>\n",
       "      <td>0</td>\n",
       "      <td>0</td>\n",
       "      <td>0</td>\n",
       "      <td>0</td>\n",
       "      <td>0</td>\n",
       "      <td>Yes</td>\n",
       "    </tr>\n",
       "    <tr>\n",
       "      <th>11</th>\n",
       "      <td>7.542951e+12</td>\n",
       "      <td>5620163</td>\n",
       "      <td>M</td>\n",
       "      <td>2016-04-26 08:44:12+00:00</td>\n",
       "      <td>2016-04-29 00:00:00+00:00</td>\n",
       "      <td>29</td>\n",
       "      <td>NOVA PALESTINA</td>\n",
       "      <td>0</td>\n",
       "      <td>0</td>\n",
       "      <td>0</td>\n",
       "      <td>0</td>\n",
       "      <td>0</td>\n",
       "      <td>1</td>\n",
       "      <td>Yes</td>\n",
       "    </tr>\n",
       "    <tr>\n",
       "      <th>17</th>\n",
       "      <td>1.479497e+13</td>\n",
       "      <td>5633460</td>\n",
       "      <td>F</td>\n",
       "      <td>2016-04-28 09:28:57+00:00</td>\n",
       "      <td>2016-04-29 00:00:00+00:00</td>\n",
       "      <td>40</td>\n",
       "      <td>CONQUISTA</td>\n",
       "      <td>1</td>\n",
       "      <td>0</td>\n",
       "      <td>0</td>\n",
       "      <td>0</td>\n",
       "      <td>0</td>\n",
       "      <td>0</td>\n",
       "      <td>Yes</td>\n",
       "    </tr>\n",
       "  </tbody>\n",
       "</table>\n",
       "</div>"
      ],
      "text/plain": [
       "       PatientId  AppointmentID Gender              ScheduledDay  \\\n",
       "6   7.336882e+14        5630279      F 2016-04-27 15:05:12+00:00   \n",
       "7   3.449833e+12        5630575      F 2016-04-27 15:39:58+00:00   \n",
       "11  7.542951e+12        5620163      M 2016-04-26 08:44:12+00:00   \n",
       "17  1.479497e+13        5633460      F 2016-04-28 09:28:57+00:00   \n",
       "\n",
       "              AppointmentDay  Age   Neighbourhood  Scholarship  Hipertension  \\\n",
       "6  2016-04-29 00:00:00+00:00   23      GOIABEIRAS            0             0   \n",
       "7  2016-04-29 00:00:00+00:00   39      GOIABEIRAS            0             0   \n",
       "11 2016-04-29 00:00:00+00:00   29  NOVA PALESTINA            0             0   \n",
       "17 2016-04-29 00:00:00+00:00   40       CONQUISTA            1             0   \n",
       "\n",
       "    Diabetes  Alcoholism  Handcap  SMS_received noshow  \n",
       "6          0           0        0             0    Yes  \n",
       "7          0           0        0             0    Yes  \n",
       "11         0           0        0             1    Yes  \n",
       "17         0           0        0             0    Yes  "
      ]
     },
     "execution_count": 24,
     "metadata": {},
     "output_type": "execute_result"
    }
   ],
   "source": [
    "w =data[data['noshow']=='Yes'] # data frame containing reccord depending on no show be Yes refer that this patient doesnt come on its appoitment\n",
    "no_show=w['noshow'] # sub-set of the column containig noshow==yes\n",
    "w.head(4)"
   ]
  },
  {
   "cell_type": "code",
   "execution_count": 25,
   "metadata": {},
   "outputs": [
    {
     "name": "stdout",
     "output_type": "stream",
     "text": [
      "Data about patients who miss the appointment : \n",
      "PatientId         17662\n",
      "AppointmentID     17662\n",
      "Gender            17662\n",
      "ScheduledDay      17662\n",
      "AppointmentDay    17662\n",
      "Age               17662\n",
      "Neighbourhood     17662\n",
      "Scholarship       17662\n",
      "Hipertension      17662\n",
      "Diabetes          17662\n",
      "Alcoholism        17662\n",
      "Handcap           17662\n",
      "SMS_received      17662\n",
      "noshow            17662\n",
      "dtype: int64\n",
      "Data about patients who show up to  the appointment : \n",
      "PatientId         54149\n",
      "AppointmentID     54149\n",
      "Gender            54149\n",
      "ScheduledDay      54149\n",
      "AppointmentDay    54149\n",
      "Age               54149\n",
      "Neighbourhood     54149\n",
      "Scholarship       54149\n",
      "Hipertension      54149\n",
      "Diabetes          54149\n",
      "Alcoholism        54149\n",
      "Handcap           54149\n",
      "SMS_received      54149\n",
      "noshow            54149\n",
      "dtype: int64\n"
     ]
    }
   ],
   "source": [
    "miss=data.noshow=='Yes'\n",
    "come=data.noshow=='No'\n",
    "print(\"Data about patients who miss the appointment : \")\n",
    "print(data[miss].count() )\n",
    "print(\"Data about patients who show up to  the appointment : \")\n",
    "print(data[come].count() )"
   ]
  },
  {
   "cell_type": "markdown",
   "metadata": {},
   "source": [
    "- number of patients dont come on thier appointment :  17663\n",
    "\n",
    "- number of patients  come on thier appointment :  54153"
   ]
  },
  {
   "cell_type": "markdown",
   "metadata": {},
   "source": [
    "- number of patients dont come on thier appointment is three times number of patients come on thier appointment "
   ]
  },
  {
   "cell_type": "code",
   "execution_count": 26,
   "metadata": {},
   "outputs": [
    {
     "data": {
      "text/html": [
       "<div>\n",
       "<style scoped>\n",
       "    .dataframe tbody tr th:only-of-type {\n",
       "        vertical-align: middle;\n",
       "    }\n",
       "\n",
       "    .dataframe tbody tr th {\n",
       "        vertical-align: top;\n",
       "    }\n",
       "\n",
       "    .dataframe thead th {\n",
       "        text-align: right;\n",
       "    }\n",
       "</style>\n",
       "<table border=\"1\" class=\"dataframe\">\n",
       "  <thead>\n",
       "    <tr style=\"text-align: right;\">\n",
       "      <th></th>\n",
       "      <th>PatientId</th>\n",
       "      <th>AppointmentID</th>\n",
       "      <th>Age</th>\n",
       "      <th>Scholarship</th>\n",
       "      <th>Hipertension</th>\n",
       "      <th>Diabetes</th>\n",
       "      <th>Alcoholism</th>\n",
       "      <th>Handcap</th>\n",
       "      <th>SMS_received</th>\n",
       "    </tr>\n",
       "    <tr>\n",
       "      <th>noshow</th>\n",
       "      <th></th>\n",
       "      <th></th>\n",
       "      <th></th>\n",
       "      <th></th>\n",
       "      <th></th>\n",
       "      <th></th>\n",
       "      <th></th>\n",
       "      <th></th>\n",
       "      <th></th>\n",
       "    </tr>\n",
       "  </thead>\n",
       "  <tbody>\n",
       "    <tr>\n",
       "      <th>No</th>\n",
       "      <td>7.948956e+18</td>\n",
       "      <td>307159678196</td>\n",
       "      <td>2015637</td>\n",
       "      <td>4946</td>\n",
       "      <td>10989</td>\n",
       "      <td>3946</td>\n",
       "      <td>1278</td>\n",
       "      <td>1131</td>\n",
       "      <td>16095</td>\n",
       "    </tr>\n",
       "    <tr>\n",
       "      <th>Yes</th>\n",
       "      <td>2.579269e+18</td>\n",
       "      <td>99756649748</td>\n",
       "      <td>607073</td>\n",
       "      <td>1915</td>\n",
       "      <td>3019</td>\n",
       "      <td>1150</td>\n",
       "      <td>520</td>\n",
       "      <td>313</td>\n",
       "      <td>8003</td>\n",
       "    </tr>\n",
       "  </tbody>\n",
       "</table>\n",
       "</div>"
      ],
      "text/plain": [
       "           PatientId  AppointmentID      Age  Scholarship  Hipertension  \\\n",
       "noshow                                                                    \n",
       "No      7.948956e+18   307159678196  2015637         4946         10989   \n",
       "Yes     2.579269e+18    99756649748   607073         1915          3019   \n",
       "\n",
       "        Diabetes  Alcoholism  Handcap  SMS_received  \n",
       "noshow                                               \n",
       "No          3946        1278     1131         16095  \n",
       "Yes         1150         520      313          8003  "
      ]
     },
     "execution_count": 26,
     "metadata": {},
     "output_type": "execute_result"
    }
   ],
   "source": [
    "data.groupby(['noshow']).sum()"
   ]
  },
  {
   "cell_type": "code",
   "execution_count": 27,
   "metadata": {},
   "outputs": [
    {
     "data": {
      "text/html": [
       "<div>\n",
       "<style scoped>\n",
       "    .dataframe tbody tr th:only-of-type {\n",
       "        vertical-align: middle;\n",
       "    }\n",
       "\n",
       "    .dataframe tbody tr th {\n",
       "        vertical-align: top;\n",
       "    }\n",
       "\n",
       "    .dataframe thead th {\n",
       "        text-align: right;\n",
       "    }\n",
       "</style>\n",
       "<table border=\"1\" class=\"dataframe\">\n",
       "  <thead>\n",
       "    <tr style=\"text-align: right;\">\n",
       "      <th></th>\n",
       "      <th>PatientId</th>\n",
       "      <th>AppointmentID</th>\n",
       "      <th>Age</th>\n",
       "      <th>Scholarship</th>\n",
       "      <th>Hipertension</th>\n",
       "      <th>Diabetes</th>\n",
       "      <th>Alcoholism</th>\n",
       "      <th>Handcap</th>\n",
       "      <th>SMS_received</th>\n",
       "    </tr>\n",
       "    <tr>\n",
       "      <th>noshow</th>\n",
       "      <th></th>\n",
       "      <th></th>\n",
       "      <th></th>\n",
       "      <th></th>\n",
       "      <th></th>\n",
       "      <th></th>\n",
       "      <th></th>\n",
       "      <th></th>\n",
       "      <th></th>\n",
       "    </tr>\n",
       "  </thead>\n",
       "  <tbody>\n",
       "    <tr>\n",
       "      <th>No</th>\n",
       "      <td>1.467978e+14</td>\n",
       "      <td>5.672490e+06</td>\n",
       "      <td>37.223901</td>\n",
       "      <td>0.091341</td>\n",
       "      <td>0.202940</td>\n",
       "      <td>0.072873</td>\n",
       "      <td>0.023602</td>\n",
       "      <td>0.020887</td>\n",
       "      <td>0.297235</td>\n",
       "    </tr>\n",
       "    <tr>\n",
       "      <th>Yes</th>\n",
       "      <td>1.460350e+14</td>\n",
       "      <td>5.648095e+06</td>\n",
       "      <td>34.371702</td>\n",
       "      <td>0.108425</td>\n",
       "      <td>0.170932</td>\n",
       "      <td>0.065112</td>\n",
       "      <td>0.029442</td>\n",
       "      <td>0.017722</td>\n",
       "      <td>0.453120</td>\n",
       "    </tr>\n",
       "  </tbody>\n",
       "</table>\n",
       "</div>"
      ],
      "text/plain": [
       "           PatientId  AppointmentID        Age  Scholarship  Hipertension  \\\n",
       "noshow                                                                      \n",
       "No      1.467978e+14   5.672490e+06  37.223901     0.091341      0.202940   \n",
       "Yes     1.460350e+14   5.648095e+06  34.371702     0.108425      0.170932   \n",
       "\n",
       "        Diabetes  Alcoholism   Handcap  SMS_received  \n",
       "noshow                                                \n",
       "No      0.072873    0.023602  0.020887      0.297235  \n",
       "Yes     0.065112    0.029442  0.017722      0.453120  "
      ]
     },
     "execution_count": 27,
     "metadata": {},
     "output_type": "execute_result"
    }
   ],
   "source": [
    "data.groupby(['noshow']).mean()"
   ]
  },
  {
   "cell_type": "markdown",
   "metadata": {},
   "source": [
    "- we note that Average of patients dont come on appointment have recieved SMS of 0.453095 "
   ]
  },
  {
   "cell_type": "code",
   "execution_count": 28,
   "metadata": {},
   "outputs": [],
   "source": [
    "# to draw histograms between certain attribute and noshow attribute :\n",
    "\n",
    "def histodraw(attribute=\"\",color1=\"\",n=6,m=6, color2=\"\"):\n",
    "    plt.figure(figsize=(n,m))\n",
    "    plt.hist(data[attribute][come] , bins=12, alpha=0.2, label='come on appointment ',   color=color1 )\n",
    "    plt.hist(data[attribute][miss] , bins=12, alpha=0.6, label='missed the appointment  ', color=color2)\n",
    "    plt.xlabel(attribute)\n",
    "    plt.ylabel('number of patients')\n",
    "    plt.title('comparing with respect  to '+attribute+ ' :')\n",
    "    plt.legend();\n",
    "    print('-number of patients subdivided with respect to  '+attribute +  ':')\n",
    "    print(data[attribute].value_counts())\n",
    "\n",
    "    print('\\n')\n",
    "    print('-Categorization numbers :' )\n",
    "    print(data.groupby(['noshow',attribute])['noshow'].count())\n",
    "\n",
    "\n"
   ]
  },
  {
   "cell_type": "markdown",
   "metadata": {},
   "source": [
    "# Answering the Questions with visulaization and statistics "
   ]
  },
  {
   "cell_type": "markdown",
   "metadata": {},
   "source": [
    "<a id='Age'></a>\n",
    "\n",
    "##### - Does age be a factor to come in appointment ?"
   ]
  },
  {
   "cell_type": "code",
   "execution_count": 29,
   "metadata": {},
   "outputs": [
    {
     "name": "stdout",
     "output_type": "stream",
     "text": [
      "-number of patients subdivided with respect to  Age:\n",
      "0      2401\n",
      "1      1614\n",
      "2      1189\n",
      "3      1067\n",
      "5      1050\n",
      "       ... \n",
      "96       15\n",
      "97        9\n",
      "98        5\n",
      "100       3\n",
      "99        1\n",
      "Name: Age, Length: 101, dtype: int64\n",
      "\n",
      "\n",
      "-Categorization numbers :\n",
      "noshow  Age\n",
      "No      0      1828\n",
      "        1      1245\n",
      "        2       967\n",
      "        3       838\n",
      "        4       707\n",
      "               ... \n",
      "Yes     94        6\n",
      "        95        4\n",
      "        96        1\n",
      "        97        2\n",
      "        98        1\n",
      "Name: noshow, Length: 200, dtype: int64\n"
     ]
    },
    {
     "data": {
      "text/plain": [
       "count    71811.000000\n",
       "mean        36.522399\n",
       "std         23.371018\n",
       "min          0.000000\n",
       "25%         17.000000\n",
       "50%         36.000000\n",
       "75%         55.000000\n",
       "max        100.000000\n",
       "Name: Age, dtype: float64"
      ]
     },
     "execution_count": 29,
     "metadata": {},
     "output_type": "execute_result"
    },
    {
     "data": {
      "image/png": "[encoded data removed]",
      "text/plain": [
       "<Figure size 432x432 with 1 Axes>"
      ]
     },
     "metadata": {
      "needs_background": "light"
     },
     "output_type": "display_data"
    }
   ],
   "source": [
    "histodraw(attribute=\"Age\",color1 =\"#8B4C39\",color2=\"#F4A460\")\n",
    "data[\"Age\"].describe()"
   ]
  },
  {
   "cell_type": "markdown",
   "metadata": {},
   "source": [
    ">we note that ranges of patients come on appointment increase at ages 0:10 approximately then continous decreasing at 11:28 and slightly increase again at ages 28:38 approximately then decrease at ages 38:45 and then increases again at ages 45:70 approximately and then continous decreasing gradually from 70 to be very small ratio at ages 85:90"
   ]
  },
  {
   "cell_type": "markdown",
   "metadata": {},
   "source": [
    "> **Note** : there is  strong correlation between Age  and show patients on time \n"
   ]
  },
  {
   "cell_type": "code",
   "execution_count": 30,
   "metadata": {},
   "outputs": [],
   "source": [
    "from importlib import reload\n",
    "plt=reload(plt)"
   ]
  },
  {
   "cell_type": "markdown",
   "metadata": {},
   "source": [
    "<a id='gender'></a>\n",
    "\n",
    "#### Does gender be a factor ? "
   ]
  },
  {
   "cell_type": "code",
   "execution_count": 31,
   "metadata": {},
   "outputs": [
    {
     "data": {
      "text/html": [
       "<div>\n",
       "<style scoped>\n",
       "    .dataframe tbody tr th:only-of-type {\n",
       "        vertical-align: middle;\n",
       "    }\n",
       "\n",
       "    .dataframe tbody tr th {\n",
       "        vertical-align: top;\n",
       "    }\n",
       "\n",
       "    .dataframe thead th {\n",
       "        text-align: right;\n",
       "    }\n",
       "</style>\n",
       "<table border=\"1\" class=\"dataframe\">\n",
       "  <thead>\n",
       "    <tr style=\"text-align: right;\">\n",
       "      <th></th>\n",
       "      <th>PatientId</th>\n",
       "      <th>AppointmentID</th>\n",
       "      <th>Age</th>\n",
       "      <th>Scholarship</th>\n",
       "      <th>Hipertension</th>\n",
       "      <th>Diabetes</th>\n",
       "      <th>Alcoholism</th>\n",
       "      <th>Handcap</th>\n",
       "      <th>SMS_received</th>\n",
       "    </tr>\n",
       "    <tr>\n",
       "      <th>Gender</th>\n",
       "      <th></th>\n",
       "      <th></th>\n",
       "      <th></th>\n",
       "      <th></th>\n",
       "      <th></th>\n",
       "      <th></th>\n",
       "      <th></th>\n",
       "      <th></th>\n",
       "      <th></th>\n",
       "    </tr>\n",
       "  </thead>\n",
       "  <tbody>\n",
       "    <tr>\n",
       "      <th>F</th>\n",
       "      <td>6.771303e+18</td>\n",
       "      <td>263223896252</td>\n",
       "      <td>1782410</td>\n",
       "      <td>5604</td>\n",
       "      <td>9797</td>\n",
       "      <td>3541</td>\n",
       "      <td>708</td>\n",
       "      <td>794</td>\n",
       "      <td>16173</td>\n",
       "    </tr>\n",
       "    <tr>\n",
       "      <th>M</th>\n",
       "      <td>3.756923e+18</td>\n",
       "      <td>143692431692</td>\n",
       "      <td>840300</td>\n",
       "      <td>1257</td>\n",
       "      <td>4211</td>\n",
       "      <td>1555</td>\n",
       "      <td>1090</td>\n",
       "      <td>650</td>\n",
       "      <td>7925</td>\n",
       "    </tr>\n",
       "  </tbody>\n",
       "</table>\n",
       "</div>"
      ],
      "text/plain": [
       "           PatientId  AppointmentID      Age  Scholarship  Hipertension  \\\n",
       "Gender                                                                    \n",
       "F       6.771303e+18   263223896252  1782410         5604          9797   \n",
       "M       3.756923e+18   143692431692   840300         1257          4211   \n",
       "\n",
       "        Diabetes  Alcoholism  Handcap  SMS_received  \n",
       "Gender                                               \n",
       "F           3541         708      794         16173  \n",
       "M           1555        1090      650          7925  "
      ]
     },
     "execution_count": 31,
     "metadata": {},
     "output_type": "execute_result"
    }
   ],
   "source": [
    "data.groupby(['Gender']).sum()"
   ]
  },
  {
   "cell_type": "code",
   "execution_count": 32,
   "metadata": {},
   "outputs": [
    {
     "data": {
      "text/html": [
       "<div>\n",
       "<style scoped>\n",
       "    .dataframe tbody tr th:only-of-type {\n",
       "        vertical-align: middle;\n",
       "    }\n",
       "\n",
       "    .dataframe tbody tr th {\n",
       "        vertical-align: top;\n",
       "    }\n",
       "\n",
       "    .dataframe thead th {\n",
       "        text-align: right;\n",
       "    }\n",
       "</style>\n",
       "<table border=\"1\" class=\"dataframe\">\n",
       "  <thead>\n",
       "    <tr style=\"text-align: right;\">\n",
       "      <th></th>\n",
       "      <th>PatientId</th>\n",
       "      <th>AppointmentID</th>\n",
       "      <th>Age</th>\n",
       "      <th>Scholarship</th>\n",
       "      <th>Hipertension</th>\n",
       "      <th>Diabetes</th>\n",
       "      <th>Alcoholism</th>\n",
       "      <th>Handcap</th>\n",
       "      <th>SMS_received</th>\n",
       "    </tr>\n",
       "    <tr>\n",
       "      <th>Gender</th>\n",
       "      <th></th>\n",
       "      <th></th>\n",
       "      <th></th>\n",
       "      <th></th>\n",
       "      <th></th>\n",
       "      <th></th>\n",
       "      <th></th>\n",
       "      <th></th>\n",
       "      <th></th>\n",
       "    </tr>\n",
       "  </thead>\n",
       "  <tbody>\n",
       "    <tr>\n",
       "      <th>F</th>\n",
       "      <td>1.457417e+14</td>\n",
       "      <td>5.665481e+06</td>\n",
       "      <td>38.363574</td>\n",
       "      <td>0.120617</td>\n",
       "      <td>0.210865</td>\n",
       "      <td>0.076214</td>\n",
       "      <td>0.015239</td>\n",
       "      <td>0.017090</td>\n",
       "      <td>0.348098</td>\n",
       "    </tr>\n",
       "    <tr>\n",
       "      <th>M</th>\n",
       "      <td>1.482021e+14</td>\n",
       "      <td>5.668341e+06</td>\n",
       "      <td>33.147929</td>\n",
       "      <td>0.049586</td>\n",
       "      <td>0.166114</td>\n",
       "      <td>0.061341</td>\n",
       "      <td>0.042998</td>\n",
       "      <td>0.025641</td>\n",
       "      <td>0.312623</td>\n",
       "    </tr>\n",
       "  </tbody>\n",
       "</table>\n",
       "</div>"
      ],
      "text/plain": [
       "           PatientId  AppointmentID        Age  Scholarship  Hipertension  \\\n",
       "Gender                                                                      \n",
       "F       1.457417e+14   5.665481e+06  38.363574     0.120617      0.210865   \n",
       "M       1.482021e+14   5.668341e+06  33.147929     0.049586      0.166114   \n",
       "\n",
       "        Diabetes  Alcoholism   Handcap  SMS_received  \n",
       "Gender                                                \n",
       "F       0.076214    0.015239  0.017090      0.348098  \n",
       "M       0.061341    0.042998  0.025641      0.312623  "
      ]
     },
     "execution_count": 32,
     "metadata": {},
     "output_type": "execute_result"
    }
   ],
   "source": [
    "data.groupby(['Gender']).mean()"
   ]
  },
  {
   "cell_type": "code",
   "execution_count": 33,
   "metadata": {},
   "outputs": [
    {
     "name": "stdout",
     "output_type": "stream",
     "text": [
      "-number of patients subdivided with respect to  Gender:\n",
      "F    46461\n",
      "M    25350\n",
      "Name: Gender, dtype: int64\n",
      "\n",
      "\n",
      "-Categorization numbers :\n",
      "noshow  Gender\n",
      "No      F         34956\n",
      "        M         19193\n",
      "Yes     F         11505\n",
      "        M          6157\n",
      "Name: noshow, dtype: int64\n"
     ]
    },
    {
     "data": {
      "text/plain": [
       "count     71811\n",
       "unique        2\n",
       "top           F\n",
       "freq      46461\n",
       "Name: Gender, dtype: object"
      ]
     },
     "execution_count": 33,
     "metadata": {},
     "output_type": "execute_result"
    },
    {
     "data": {
      "image/png": "[encoded data removed]",
      "text/plain": [
       "<Figure size 432x288 with 2 Axes>"
      ]
     },
     "metadata": {},
     "output_type": "display_data"
    },
    {
     "data": {
      "image/png": "[encoded data removed]",
      "text/plain": [
       "<Figure size 432x432 with 1 Axes>"
      ]
     },
     "metadata": {
      "needs_background": "light"
     },
     "output_type": "display_data"
    }
   ],
   "source": [
    "fig, axes = plt.subplots(nrows=2, ncols=1)\n",
    "axes[0].pie(data[\"Gender\"][miss].value_counts(normalize=True),labels =['F','M'])\n",
    "axes[0].set_title(\"Males and Females miss the appointment \")\n",
    "axes[1].pie(data[\"Gender\"][come].value_counts(normalize=True),labels =['F','M'])\n",
    "axes[1].set_title(\"Males and Females match the appointment \")\n",
    "\n",
    "\n",
    "histodraw(attribute=\"Gender\",color1='#8B0000',color2=\"#668B8B\")\n",
    "#histodraw(attribute=\"Gender\",color1='#8B0000',color2=\"#668B8B\")\n",
    "data[\"Gender\"].describe()"
   ]
  },
  {
   "cell_type": "markdown",
   "metadata": {},
   "source": [
    "**we Notice that**:\n",
    "- number of female patients is larger than male patients \n",
    "- number of female patients come on appointment is about 3 times who miss \n",
    "- number of male patients come on appointment is about 3 times who miss \n",
    "\n"
   ]
  },
  {
   "cell_type": "markdown",
   "metadata": {},
   "source": [
    "> **Note** : we can say that both male and female have similar ratio of miss and follow the appoinment so attendence of patient doesnt depend on its gender "
   ]
  },
  {
   "cell_type": "markdown",
   "metadata": {},
   "source": [
    "<a id='wlf'></a>\n",
    "\n",
    "#####  Does the Enrollment in Brasilian welfare program  affect ? "
   ]
  },
  {
   "cell_type": "code",
   "execution_count": 34,
   "metadata": {},
   "outputs": [
    {
     "name": "stdout",
     "output_type": "stream",
     "text": [
      "-number of patients subdivided with respect to  Scholarship:\n",
      "0    64950\n",
      "1     6861\n",
      "Name: Scholarship, dtype: int64\n",
      "\n",
      "\n",
      "-Categorization numbers :\n",
      "noshow  Scholarship\n",
      "No      0              49203\n",
      "        1               4946\n",
      "Yes     0              15747\n",
      "        1               1915\n",
      "Name: noshow, dtype: int64\n"
     ]
    },
    {
     "data": {
      "image/png": "[encoded data removed]",
      "text/plain": [
       "<Figure size 432x432 with 1 Axes>"
      ]
     },
     "metadata": {
      "needs_background": "light"
     },
     "output_type": "display_data"
    }
   ],
   "source": [
    "histodraw(\"Scholarship\",color1=\"#8B3A62\",color2=\"#668B8B\")\n"
   ]
  },
  {
   "cell_type": "markdown",
   "metadata": {},
   "source": [
    "**we Notice that**:\n",
    "- number non enrolled patients (64955) in welfare program larger than those who enrolled (6861) for about 9.5 times \n",
    "- number of patients who come on appointment and didn't enroll in welfare program (49207) is larger than those who come on appointment but enroll in welfare program (4946) for about 10 times \n",
    "- number of patients who miss the  appointment and didn't enroll in welfare program (15748) is larger than those who miss the appointment but enroll in welfare program (1915) for about 8 times \n"
   ]
  },
  {
   "cell_type": "markdown",
   "metadata": {},
   "source": [
    "> **Note** : there is no strong correlation between enrolled in welfare program and coming of patients on time \n"
   ]
  },
  {
   "cell_type": "markdown",
   "metadata": {},
   "source": [
    "<a id='ds1'></a>\n",
    "\n",
    "#####  Does the patient who suffer from diabetes  affect its coming  ? "
   ]
  },
  {
   "cell_type": "code",
   "execution_count": 35,
   "metadata": {},
   "outputs": [
    {
     "name": "stdout",
     "output_type": "stream",
     "text": [
      "-number of patients subdivided with respect to  Diabetes:\n",
      "0    66715\n",
      "1     5096\n",
      "Name: Diabetes, dtype: int64\n",
      "\n",
      "\n",
      "-Categorization numbers :\n",
      "noshow  Diabetes\n",
      "No      0           50203\n",
      "        1            3946\n",
      "Yes     0           16512\n",
      "        1            1150\n",
      "Name: noshow, dtype: int64\n"
     ]
    },
    {
     "data": {
      "image/png": "[encoded data removed]",
      "text/plain": [
       "<Figure size 432x432 with 1 Axes>"
      ]
     },
     "metadata": {
      "needs_background": "light"
     },
     "output_type": "display_data"
    }
   ],
   "source": [
    "histodraw(\"Diabetes\",color1=\"#8B008B\",color2=\"#20B2AA\")"
   ]
  },
  {
   "cell_type": "markdown",
   "metadata": {},
   "source": [
    "**we Notice that**:\n",
    "- number of patients dont suffer from diabetes (66720) is larger than those who suffer (5096) for about 13 times \n",
    "- number of patients showed up to thier appointment and dont suffer from diabetes  (50207) is larger than those who showed up but suffer (3946) for about 12.5 times \n",
    "- number of patients dont showed up to thier appointment and dont suffer from diabetes (16513) is larger than those who showed up but suffer (1150) for about 14 times "
   ]
  },
  {
   "cell_type": "markdown",
   "metadata": {},
   "source": [
    "> **Note** : there is no strong correlation between suffering from diabetes  and show patients on time \n"
   ]
  },
  {
   "cell_type": "markdown",
   "metadata": {},
   "source": [
    "<a id='ds2'></a>\n",
    "\n",
    "#####  Does the patient who suffer from Hypertension  affect its coming  ? "
   ]
  },
  {
   "cell_type": "code",
   "execution_count": 36,
   "metadata": {},
   "outputs": [
    {
     "name": "stdout",
     "output_type": "stream",
     "text": [
      "-number of patients subdivided with respect to  Hipertension:\n",
      "0    57803\n",
      "1    14008\n",
      "Name: Hipertension, dtype: int64\n",
      "\n",
      "\n",
      "-Categorization numbers :\n",
      "noshow  Hipertension\n",
      "No      0               43160\n",
      "        1               10989\n",
      "Yes     0               14643\n",
      "        1                3019\n",
      "Name: noshow, dtype: int64\n"
     ]
    },
    {
     "data": {
      "image/png": "[encoded data removed]",
      "text/plain": [
       "<Figure size 432x432 with 1 Axes>"
      ]
     },
     "metadata": {
      "needs_background": "light"
     },
     "output_type": "display_data"
    }
   ],
   "source": [
    "histodraw(\"Hipertension\",color1='#000080',color2=\"#8B008B\")"
   ]
  },
  {
   "cell_type": "markdown",
   "metadata": {},
   "source": [
    "**we Notice that**:\n",
    "- number of patients dont suffer from Hipertension (57807) is larger than those who suffer (14009) for about 4 times \n",
    "- number of patients showed up to thier appointment and dont suffer from Hipertension  (43163) is larger than those who showed up but suffer (10990) for about 4 times \n",
    "- number of patients dont showed up to thier appointment and dont suffer from Hipertension (14644) is larger than those who showed up but suffer (3019) for about 5 times "
   ]
  },
  {
   "cell_type": "markdown",
   "metadata": {},
   "source": [
    "> **Note** : there is no strong correlation between suffering from hypertension  and show patients on time \n"
   ]
  },
  {
   "cell_type": "markdown",
   "metadata": {},
   "source": [
    "<a id='alch'></a>\n",
    "##### Does Alcohol play role in this ? "
   ]
  },
  {
   "cell_type": "code",
   "execution_count": 37,
   "metadata": {},
   "outputs": [
    {
     "name": "stdout",
     "output_type": "stream",
     "text": [
      "-number of patients subdivided with respect to  Alcoholism:\n",
      "0    70013\n",
      "1     1798\n",
      "Name: Alcoholism, dtype: int64\n",
      "\n",
      "\n",
      "-Categorization numbers :\n",
      "noshow  Alcoholism\n",
      "No      0             52871\n",
      "        1              1278\n",
      "Yes     0             17142\n",
      "        1               520\n",
      "Name: noshow, dtype: int64\n"
     ]
    },
    {
     "data": {
      "image/png": "[encoded data removed]",
      "text/plain": [
       "<Figure size 432x432 with 1 Axes>"
      ]
     },
     "metadata": {
      "needs_background": "light"
     },
     "output_type": "display_data"
    }
   ],
   "source": [
    "histodraw('Alcoholism',color1=\"#8B795E\",color2=\"#27408B\")"
   ]
  },
  {
   "cell_type": "markdown",
   "metadata": {},
   "source": [
    "**we Notice that**:\n",
    "- number of non alcholic patients (70018) is larger than those alcholic (1798) about 70 times \n",
    "- number of patients showed up to thier appointment and non alcholic  (52875) is larger than those who are alcholic (1278) about 40 times \n",
    "- number of patients dont showed up to thier appointment and non alcholic (17143) is larger than those who are alcholic  (520)  about 30 times"
   ]
  },
  {
   "cell_type": "markdown",
   "metadata": {},
   "source": [
    "> **Note** : there is no strong correlation between suffering from Alcoholism  and show patients on time \n",
    " it is insignificant "
   ]
  },
  {
   "cell_type": "markdown",
   "metadata": {},
   "source": [
    "<a id='hn'></a>\n",
    "\n",
    "#### Does Handcap affect ?"
   ]
  },
  {
   "cell_type": "code",
   "execution_count": 38,
   "metadata": {},
   "outputs": [
    {
     "name": "stdout",
     "output_type": "stream",
     "text": [
      "-number of patients subdivided with respect to  Handcap:\n",
      "0    70508\n",
      "1     1176\n",
      "2      116\n",
      "3        8\n",
      "4        3\n",
      "Name: Handcap, dtype: int64\n",
      "\n",
      "\n",
      "-Categorization numbers :\n",
      "noshow  Handcap\n",
      "No      0          53123\n",
      "        1            930\n",
      "        2             89\n",
      "        3              5\n",
      "        4              2\n",
      "Yes     0          17385\n",
      "        1            246\n",
      "        2             27\n",
      "        3              3\n",
      "        4              1\n",
      "Name: noshow, dtype: int64\n"
     ]
    },
    {
     "data": {
      "image/png": "[encoded data removed]",
      "text/plain": [
       "<Figure size 432x432 with 1 Axes>"
      ]
     },
     "metadata": {
      "needs_background": "light"
     },
     "output_type": "display_data"
    }
   ],
   "source": [
    "histodraw('Handcap',color1=\"#00868B\",color2=\"#FFFF00\")"
   ]
  },
  {
   "cell_type": "markdown",
   "metadata": {},
   "source": []
  },
  {
   "cell_type": "markdown",
   "metadata": {},
   "source": [
    "> **Note** : there is no strong correlation between the patient be Handcap or not \n",
    " it is insignificant "
   ]
  },
  {
   "cell_type": "markdown",
   "metadata": {},
   "source": [
    "<a id='sms'></a>\n",
    "##### Is there a realationship between  \"Receiving SMS\" and the loyality of patient to its appointment ? "
   ]
  },
  {
   "cell_type": "code",
   "execution_count": 39,
   "metadata": {},
   "outputs": [
    {
     "name": "stdout",
     "output_type": "stream",
     "text": [
      "-number of patients subdivided with respect to  SMS_received:\n",
      "0    47713\n",
      "1    24098\n",
      "Name: SMS_received, dtype: int64\n",
      "\n",
      "\n",
      "-Categorization numbers :\n",
      "noshow  SMS_received\n",
      "No      0               38054\n",
      "        1               16095\n",
      "Yes     0                9659\n",
      "        1                8003\n",
      "Name: noshow, dtype: int64\n"
     ]
    },
    {
     "data": {
      "text/plain": [
       "count    71811.000000\n",
       "mean         0.335575\n",
       "std          0.472194\n",
       "min          0.000000\n",
       "25%          0.000000\n",
       "50%          0.000000\n",
       "75%          1.000000\n",
       "max          1.000000\n",
       "Name: SMS_received, dtype: float64"
      ]
     },
     "execution_count": 39,
     "metadata": {},
     "output_type": "execute_result"
    },
    {
     "data": {
      "image/png": "[encoded data removed]",
      "text/plain": [
       "<Figure size 432x432 with 1 Axes>"
      ]
     },
     "metadata": {
      "needs_background": "light"
     },
     "output_type": "display_data"
    }
   ],
   "source": [
    "histodraw('SMS_received',color1=\"#8B8B00\",color2=\"#8B2252\")\n",
    "data['SMS_received'].describe()"
   ]
  },
  {
   "cell_type": "markdown",
   "metadata": {},
   "source": []
  },
  {
   "cell_type": "markdown",
   "metadata": {},
   "source": [
    "> **Note** : there is  strong correlation between SMS recieving  and show patients on time but the strange here is that precent of patients recieved SMS and miss the appointment is larger than who dont recieve and show up to the appointment \n",
    "\n",
    "**we need to Revise SMS System** "
   ]
  },
  {
   "cell_type": "markdown",
   "metadata": {},
   "source": [
    "<a id='NH'></a>\n",
    "##### Is there a realationship between  \"Neighbourhood\" and the loyality of patient to its appointment ? "
   ]
  },
  {
   "cell_type": "code",
   "execution_count": 40,
   "metadata": {},
   "outputs": [
    {
     "name": "stdout",
     "output_type": "stream",
     "text": [
      "Sammary:\n",
      "count              71811\n",
      "unique                81\n",
      "top       JARDIM CAMBURI\n",
      "freq                4800\n",
      "Name: Neighbourhood, dtype: object\n",
      "\n",
      "\n",
      "Categorization :\n",
      "noshow  Neighbourhood      \n",
      "No      AEROPORTO                6\n",
      "        ANDORINHAS             996\n",
      "        ANTÔNIO HONÓRIO        155\n",
      "        ARIOVALDO FAVALESSA    152\n",
      "        BARRO VERMELHO         189\n",
      "                              ... \n",
      "Yes     SÃO JOSÉ               293\n",
      "        SÃO PEDRO              407\n",
      "        TABUAZEIRO             465\n",
      "        UNIVERSITÁRIO           24\n",
      "        VILA RUBIM             117\n",
      "Name: noshow, Length: 160, dtype: int64\n",
      "\n",
      "\n",
      "Count Frequency of each site :\n",
      "JARDIM CAMBURI                 4800\n",
      "MARIA ORTIZ                    3844\n",
      "RESISTÊNCIA                    2780\n",
      "JARDIM DA PENHA                2696\n",
      "ITARARÉ                        2470\n",
      "                               ... \n",
      "ILHA DO BOI                      24\n",
      "AEROPORTO                         7\n",
      "ILHA DO FRADE                     6\n",
      "ILHAS OCEÂNICAS DE TRINDADE       2\n",
      "PARQUE INDUSTRIAL                 1\n",
      "Name: Neighbourhood, Length: 81, dtype: int64\n"
     ]
    },
    {
     "data": {
      "image/png": "[encoded data removed]",
      "text/plain": [
       "<Figure size 1800x432 with 1 Axes>"
      ]
     },
     "metadata": {
      "needs_background": "light"
     },
     "output_type": "display_data"
    }
   ],
   "source": [
    "plt.figure(figsize=[25,6])\n",
    "print(\"Sammary:\")\n",
    "data[\"Neighbourhood\"][miss].value_counts().plot(kind=\"bar\",label=\"missed\",color=\"red\",alpha=0.9)\n",
    "data[\"Neighbourhood\"][come].value_counts().plot(kind=\"bar\",label=\"show up\",color=\"blue\",alpha=0.5)\n",
    "plt.legend()\n",
    "print((data[\"Neighbourhood\"]).describe())\n",
    "print(\"\\n\")\n",
    "print(\"Categorization :\")\n",
    "print(data.groupby(['noshow',\"Neighbourhood\"])['noshow'].count())\n",
    "print(\"\\n\")\n",
    "print(\"Count Frequency of each site :\")\n",
    "x=data[\"Neighbourhood\"].value_counts()[:len(data)].sort_values(ascending=False)\n",
    "print(x)"
   ]
  },
  {
   "cell_type": "markdown",
   "metadata": {},
   "source": [
    "\n",
    "- we have total 71816 records of about 81 unique sites \n",
    "- the most Frquent site is  : JARDIM CAMBURI of about 4800  times\n",
    "- the least frequent sit is : 'PARQUE INDUSTRIAL ' of about 1 times\n",
    "- logically we notice that some patients from same sites have high ratio to show up on thier appointment than other           areas may be those sites are more near to the hospital than the others \n",
    "\n",
    "    \n"
   ]
  },
  {
   "cell_type": "markdown",
   "metadata": {},
   "source": [
    "<a id='conclusions'></a>\n",
    "# Conclusions :\n"
   ]
  },
  {
   "cell_type": "markdown",
   "metadata": {},
   "source": [
    "> - most affective attributes are Age , niegbourhood , SMS which play an esstentials roles as  factors for attendtence of   patients on thier appointments \n",
    ">- **we need to Revise SMS System** as number of patients recieved SMS and miss the appointment is larger than who dont   recieve and show up to the appointment and this is illogical \n",
    "> - you have patients from abou 81 nieghbourhood sites  where  the most Frquent site is  : JARDIM CAMBURI of about 4800  times and the least frequent sit is : 'PARQUE INDUSTRIAL ' of about 1 times\n",
    ">- smaller age ranges from 0 to 8 the most category showed up on thier appointment which is the peak of the histogram (first maximum category )\n",
    "followed by ages from 45 to 60 approximately is the second maximum category "
   ]
  },
  {
   "cell_type": "markdown",
   "metadata": {},
   "source": [
    "### Limitations"
   ]
  },
  {
   "cell_type": "markdown",
   "metadata": {},
   "source": [
    ">**No clear correlation between chronic diseasee such as diabetes , hypertension , or being handcap or alcoholic and showing the patient in its appointment**  \n",
    "\n",
    "> **Also no clear relation between enrollment in welfare program and the attendence of the patient**\n",
    "\n",
    ">**we dont care about appointment and schedule date this is irrelevant data for this problem**\n",
    "\n",
    ">**showing patient up to its appointment doesnt depend on its gender (male of female)**\n"
   ]
  }
 ],
 "metadata": {
  "kernelspec": {
   "display_name": "Python 3",
   "language": "python",
   "name": "python3"
  },
  "language_info": {
   "codemirror_mode": {
    "name": "ipython",
    "version": 3
   },
   "file_extension": ".py",
   "mimetype": "text/x-python",
   "name": "python",
   "nbconvert_exporter": "python",
   "pygments_lexer": "ipython3",
   "version": "3.8.5"
  }
 },
 "nbformat": 4,
 "nbformat_minor": 4
}
